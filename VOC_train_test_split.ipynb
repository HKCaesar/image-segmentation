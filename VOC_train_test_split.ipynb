{
 "cells": [
  {
   "cell_type": "code",
   "execution_count": 1,
   "metadata": {
    "collapsed": true
   },
   "outputs": [],
   "source": [
    "from scipy.misc import imread, imresize\n",
    "import numpy as np"
   ]
  },
  {
   "cell_type": "code",
   "execution_count": 2,
   "metadata": {
    "collapsed": true
   },
   "outputs": [],
   "source": [
    "filenames = \"/home/thalles/VOC2012/ImageSets/Segmentation/trainval.txt\""
   ]
  },
  {
   "cell_type": "code",
   "execution_count": 3,
   "metadata": {},
   "outputs": [
    {
     "name": "stdout",
     "output_type": "stream",
     "text": [
      "['2007_000032\\n', '2007_000033\\n', '2007_000039\\n', '2007_000042\\n', '2007_000061\\n', '2007_000063\\n', '2007_000068\\n', '2007_000121\\n', '2007_000123\\n', '2007_000129\\n']\n",
      "['2009_003450\\n', '2009_000931\\n', '2011_002291\\n', '2007_001311\\n', '2008_001885\\n', '2008_003562\\n', '2011_003145\\n', '2009_005234\\n', '2008_006523\\n', '2007_004328\\n']\n"
     ]
    }
   ],
   "source": [
    "file = open(filenames, 'r')\n",
    "image_filenames_list = [line for line in file]\n",
    "print(image_filenames_list[0:10])\n",
    "\n",
    "np.random.shuffle(image_filenames_list)\n",
    "print(image_filenames_list[0:10])\n",
    "#image_filenames_list = [\"2007_000170\"]"
   ]
  },
  {
   "cell_type": "code",
   "execution_count": 4,
   "metadata": {
    "collapsed": true
   },
   "outputs": [],
   "source": [
    "def train_test_val_split(images_filenames, test_set_size=0.10, val_split=False, val_set_size=0.10):\n",
    "    \n",
    "    n_samples = len(images_filenames)\n",
    "\n",
    "    TEST_DATASET_SIZE = int(test_set_size * n_samples)\n",
    "\n",
    "    training_filenames = images_filenames[TEST_DATASET_SIZE:]\n",
    "    testing_filenames = images_filenames[:TEST_DATASET_SIZE]\n",
    "    \n",
    "    validation_filenames = None\n",
    "    if val_split:\n",
    "        VALIDATION_DATASET_SIZE = int(val_set_size * len(training_filenames))\n",
    "\n",
    "        validation_filenames = training_filenames[:VALIDATION_DATASET_SIZE]\n",
    "        training_filenames = training_filenames[VALIDATION_DATASET_SIZE:]\n",
    "        \n",
    "    return training_filenames, testing_filenames, validation_filenames"
   ]
  },
  {
   "cell_type": "code",
   "execution_count": 5,
   "metadata": {
    "collapsed": true
   },
   "outputs": [],
   "source": [
    "training_filenames, testing_filenames, validation_filenames = train_test_val_split(image_filenames_list)"
   ]
  },
  {
   "cell_type": "code",
   "execution_count": 6,
   "metadata": {
    "collapsed": true
   },
   "outputs": [],
   "source": [
    "training_file = open('training_filenames.txt', 'w')\n",
    "for line in training_filenames:\n",
    "    training_file.write(\"%s\" % line)\n",
    "training_file.close()\n",
    "\n",
    "#validation_file = open('validation_filenames.txt', 'w')\n",
    "#for line in validation_filenames:\n",
    "#    validation_file.write(\"%s\" % line)\n",
    "#validation_file.close()\n",
    "\n",
    "testing_file = open('testing_filenames.txt', 'w')\n",
    "for line in testing_filenames:\n",
    "    testing_file.write(\"%s\" % line)\n",
    "testing_file.close()"
   ]
  },
  {
   "cell_type": "code",
   "execution_count": 7,
   "metadata": {},
   "outputs": [
    {
     "name": "stdout",
     "output_type": "stream",
     "text": [
      "Training set size: 2622\n",
      "Testing set size: 291\n"
     ]
    }
   ],
   "source": [
    "print(\"Training set size:\", len(training_filenames))\n",
    "print(\"Testing set size:\", len(testing_filenames))\n",
    "#print(\"Validation set size:\", len(validation_filenames))"
   ]
  },
  {
   "cell_type": "code",
   "execution_count": null,
   "metadata": {
    "collapsed": true
   },
   "outputs": [],
   "source": []
  }
 ],
 "metadata": {
  "anaconda-cloud": {},
  "kernelspec": {
   "display_name": "Python 3",
   "language": "python",
   "name": "python3"
  },
  "language_info": {
   "codemirror_mode": {
    "name": "ipython",
    "version": 3
   },
   "file_extension": ".py",
   "mimetype": "text/x-python",
   "name": "python",
   "nbconvert_exporter": "python",
   "pygments_lexer": "ipython3",
   "version": "3.6.1"
  }
 },
 "nbformat": 4,
 "nbformat_minor": 2
}
