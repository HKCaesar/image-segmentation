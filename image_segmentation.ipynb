{
 "cells": [
  {
   "cell_type": "markdown",
   "metadata": {},
   "source": [
    "### Introduction"
   ]
  },
  {
   "cell_type": "markdown",
   "metadata": {},
   "source": [
    "In the previous post, we implemented the upsampling and made sure it is correct\n",
    "by comparing it to the implementation of the [scikit-image library](http://scikit-image.org/).\n",
    "To be more specific we had _FCN-32_ _Segmentation_ network implemented which is\n",
    "described in the paper _Fully convolutional networks for semantic segmentation_.\n",
    "\n",
    "In this post we will perform a simple training: we will get a sample image from\n",
    "[PASCAL VOC](http://host.robots.ox.ac.uk/pascal/VOC/) dataset along with annotation,\n",
    "train our network on them and test our network on the same image. It was done this way\n",
    "so that it can also be run on CPU -- it takes only 10 iterations for the training to complete.\n",
    "Another point of this post is to show that segmentation that our network (FCN-32s) produces is\n",
    "very coarse -- even if we run it on the same image that we were training it on. In this post\n",
    "we tackle this problem by performing Conditional Random Field post-processing stage, which\n",
    "refines our segmentation by taking into account pure RGB features of image and probabilities\n",
    "produced by our network. Overall, we get a refined segmentation. The set-up of this post\n",
    "is very simple on purpose. Similar approach to Segmentation was described in the paper\n",
    "_Semantic Image Segmentation with Deep Convolutional Nets and Fully Connected CRFs_ by Chen et al.\n",
    "\n",
    "The blog post is created using jupyter notebook. After each chunk of a code\n",
    "you can see the result of its evaluation. You can also get the notebook\n",
    "file from [here](http://google.com). The content of the blog post\n",
    "is partially borrowed from [slim walkthough notebook](https://github.com/tensorflow/models/blob/master/slim/slim_walkthough.ipynb)."
   ]
  },
  {
   "cell_type": "markdown",
   "metadata": {},
   "source": [
    "### Setup\n",
    "\n"
   ]
  },
  {
   "cell_type": "markdown",
   "metadata": {},
   "source": [
    "To be able to run the code, you will need to have Tensorflow installed. I have used _r0.12_.\n",
    "You will need to use [this fork of _tensorflow/models_](https://github.com/tensorflow/models/pull/684). \n",
    "\n",
    "I am also using scikit-image library and numpy for this tutorial plus other\n",
    "dependencies. One of the ways to install them is to download _Anaconda_ software\n",
    "package for python.\n",
    "\n",
    "Follow all the other steps described in the previous posts -- it shows how to download\n",
    "the _VGG-16_ model and I also forked the "
   ]
  },
  {
   "cell_type": "code",
   "execution_count": 1,
   "metadata": {
    "collapsed": true
   },
   "outputs": [],
   "source": [
    "%matplotlib inline\n",
    "\n",
    "from __future__ import division\n",
    "\n",
    "import os\n",
    "import sys\n",
    "import tensorflow as tf\n",
    "import skimage.io as io\n",
    "import numpy as np\n",
    "from nets import vgg\n",
    "from preprocessing import vgg_preprocessing\n",
    "from scale_input_image import scale_randomly_image_with_annotation_with_fixed_size_output\n",
    "from training import get_valid_logits_and_labels\n",
    "# Load the mean pixel values and the function\n",
    "# that performs the subtraction from each pixel\n",
    "from preprocessing.vgg_preprocessing import (_mean_image_subtraction,\n",
    "                                            _R_MEAN, _G_MEAN, _B_MEAN)"
   ]
  },
  {
   "cell_type": "markdown",
   "metadata": {},
   "source": [
    "# Data processing"
   ]
  },
  {
   "cell_type": "code",
   "execution_count": 2,
   "metadata": {
    "collapsed": true
   },
   "outputs": [],
   "source": [
    "#0:   background\n",
    "#1:   aeroplane\n",
    "#2:   bicycle\n",
    "#3:   bird\n",
    "#4:   boat\n",
    "#5:   bottle\n",
    "#6:   bus\n",
    "#7:   car\n",
    "#8:   cat\n",
    "#9:   chair\n",
    "#10:  cow\n",
    "#11:  diningtable\n",
    "#12:  dog\n",
    "#13:  horse\n",
    "#14:  motorbike\n",
    "#15:  person\n",
    "#16:  pottedplant\n",
    "#17:  sheep\n",
    "#18:  sofa\n",
    "#19:  train\n",
    "#20:  tvmonitor\n",
    "#255: undefined/don't care\n",
    "number_of_classes = 21\n",
    "class_labels = [v for v in range((number_of_classes+1))]\n",
    "class_labels[-1] = 255"
   ]
  },
  {
   "cell_type": "markdown",
   "metadata": {},
   "source": [
    "### Upsampling helper functions and Image Loading"
   ]
  },
  {
   "cell_type": "markdown",
   "metadata": {},
   "source": [
    "In this part, we define helper functions that were used in previous post.\n",
    "If you recall, we used upsampling to upsample the downsampled predictions\n",
    "that we get from our network. We get downsampled predictions because of max-pooling\n",
    "layers that are used in _VGG-16_ network.\n",
    "\n",
    "We also write code for image and respective ground-truth segmentation loading.\n",
    "The code is well-commented, so don't be afraid to read it."
   ]
  },
  {
   "cell_type": "code",
   "execution_count": 3,
   "metadata": {
    "collapsed": true
   },
   "outputs": [],
   "source": [
    "import numpy as np\n",
    "\n",
    "def get_kernel_size(factor):\n",
    "    \"\"\"\n",
    "    Find the kernel size given the desired factor of upsampling.\n",
    "    \"\"\"\n",
    "    return 2 * factor - factor % 2\n",
    "\n",
    "\n",
    "def upsample_filt(size):\n",
    "    \"\"\"\n",
    "    Make a 2D bilinear kernel suitable for upsampling of the given (h, w) size.\n",
    "    \"\"\"\n",
    "    factor = (size + 1) // 2\n",
    "    if size % 2 == 1:\n",
    "        center = factor - 1\n",
    "    else:\n",
    "        center = factor - 0.5\n",
    "    og = np.ogrid[:size, :size]\n",
    "    return (1 - abs(og[0] - center) / factor) * \\\n",
    "           (1 - abs(og[1] - center) / factor)\n",
    "\n",
    "\n",
    "def bilinear_upsample_weights(factor, number_of_classes):\n",
    "    \"\"\"\n",
    "    Create weights matrix for transposed convolution with bilinear filter\n",
    "    initialization.\n",
    "    \"\"\"\n",
    "    \n",
    "    filter_size = get_kernel_size(factor)\n",
    "    \n",
    "    weights = np.zeros((filter_size,\n",
    "                        filter_size,\n",
    "                        number_of_classes,\n",
    "                        number_of_classes), dtype=np.float32)\n",
    "    \n",
    "    upsample_kernel = upsample_filt(filter_size)\n",
    "    \n",
    "    for i in range(number_of_classes):\n",
    "        \n",
    "        weights[:, :, i, i] = upsample_kernel\n",
    "    \n",
    "    return weights\n",
    "\n",
    "def _mean_image_subtraction(image, means):\n",
    "    \"\"\"Subtracts the given means from each image channel.\n",
    "\n",
    "    For example:\n",
    "    means = [123.68, 116.779, 103.939]\n",
    "    image = _mean_image_subtraction(image, means)\n",
    "\n",
    "    Note that the rank of `image` must be known.\n",
    "\n",
    "    Args:\n",
    "    image: a tensor of size [height, width, C].\n",
    "    means: a C-vector of values to subtract from each channel.\n",
    "\n",
    "    Returns:\n",
    "    the centered image.\n",
    "\n",
    "    Raises:\n",
    "    ValueError: If the rank of `image` is unknown, if `image` has a rank other\n",
    "      than three or if the number of channels in `image` doesn't match the\n",
    "      number of values in `means`.\n",
    "    \"\"\"\n",
    "    if image.get_shape().ndims != 4:\n",
    "        print(\"lkjgflkfdsjglkfdsjg\")\n",
    "        raise ValueError('Input must be of size [height, width, C>0]')\n",
    "    num_channels = image.get_shape().as_list()[-1]\n",
    "    \n",
    "    if len(means) != num_channels:\n",
    "        raise ValueError('len(means) must match the number of channels')\n",
    "\n",
    "    channels = tf.split(axis=3, num_or_size_splits=num_channels, value=image)\n",
    "    for i in range(num_channels):\n",
    "        channels[i] -= means[i]\n",
    "        \n",
    "    return tf.concat(axis=3, values=channels)"
   ]
  },
  {
   "cell_type": "code",
   "execution_count": 4,
   "metadata": {
    "collapsed": true
   },
   "outputs": [],
   "source": [
    "sys.path.append(\"/home/thalles/VOC2012/JPEGImages/\")\n",
    "checkpoints_dir = '/home/thalles/image-segmentation/vgg'\n",
    "log_folder = '/home/thalles/log_folder'\n",
    "vgg_checkpoint_path = os.path.join(checkpoints_dir, 'vgg_16.ckpt')"
   ]
  },
  {
   "cell_type": "code",
   "execution_count": 5,
   "metadata": {
    "collapsed": true
   },
   "outputs": [],
   "source": [
    "def model_input():\n",
    "    is_training_placeholder = tf.placeholder(tf.bool)\n",
    "    return is_training_placeholder"
   ]
  },
  {
   "cell_type": "markdown",
   "metadata": {},
   "source": [
    "### Loss function definition and training using Adam Optimization Algorithm."
   ]
  },
  {
   "cell_type": "code",
   "execution_count": 6,
   "metadata": {
    "collapsed": true
   },
   "outputs": [],
   "source": [
    "import sys\n",
    "import os\n",
    "from matplotlib import pyplot as plt\n",
    "\n",
    "fig_size = [15, 4]\n",
    "plt.rcParams[\"figure.figsize\"] = fig_size\n",
    "\n",
    "slim = tf.contrib.slim\n",
    "\n",
    "# Create an array to represent the filter to be applied\n",
    "# in the transpose convolution op with shape [height, width, output_channels, in_channels]\n",
    "upsample_filter_factor_2_np = bilinear_upsample_weights(factor=2,\n",
    "                                                        number_of_classes=number_of_classes)\n",
    "\n",
    "upsample_filter_factor_16_np = bilinear_upsample_weights(factor=16,\n",
    "                                                         number_of_classes=number_of_classes)\n",
    "\n",
    "upsample_filter_factor_2_tensor = tf.constant(upsample_filter_factor_2_np)\n",
    "upsample_filter_factor_16_tensor = tf.constant(upsample_filter_factor_16_np)\n",
    "\n",
    "def model(processed_images, number_of_classes=21, is_training=True):\n",
    "\n",
    "    # Subtract the mean pixel value from each pixel\n",
    "    mean_centered_image = _mean_image_subtraction(processed_images,\n",
    "                                              [_R_MEAN, _G_MEAN, _B_MEAN])\n",
    "\n",
    "    # Define the model that we want to use -- specify to use only two classes at the last layer\n",
    "    with slim.arg_scope(vgg.vgg_arg_scope()):\n",
    "        logits, vgg_variables = vgg.vgg_16(mean_centered_image,\n",
    "                               num_classes=number_of_classes,\n",
    "                               is_training=is_training,\n",
    "                               spatial_squeeze=False)\n",
    "\n",
    "    # get the vggs pool5 feature map\n",
    "    pool5_feature_map = vgg_variables['vgg_16/pool5']\n",
    "\n",
    "    pool5_logits = slim.conv2d(pool5_feature_map,\n",
    "                               number_of_classes,\n",
    "                               [1, 1],\n",
    "                               activation_fn=None,\n",
    "                               normalizer_fn=None,\n",
    "                               scope=\"seg_vars/pool5\",\n",
    "                               weights_initializer=tf.zeros_initializer) # Out: # (1, 22, 30, 2)\n",
    "\n",
    "    final_logits_plus_poo5_logits = logits + pool5_logits\n",
    "    # final_logits_plus_poo5_logits = logits \n",
    "\n",
    "    # Returns the shape of tensor logits. \n",
    "    # For that particular input image we get (1, 11, 15, 2)\n",
    "    downsampled_logits_shape = tf.shape(final_logits_plus_poo5_logits)\n",
    "\n",
    "    # Calculate the ouput size of the upsampled tensor\n",
    "    upsampled_logits_shape = tf.stack([\n",
    "                                      downsampled_logits_shape[0],\n",
    "                                      downsampled_logits_shape[1] * 2, \n",
    "                                      downsampled_logits_shape[2] * 2, \n",
    "                                      downsampled_logits_shape[3]\n",
    "                                     ]) # Output [1 22 30 2] - Note the original input image size\n",
    "\n",
    "    # Perform the first upsampling by applying a convolution to the conv8 layer of the vgg\n",
    "    # at stride 32 (paper)\n",
    "    upsampled_logits = tf.nn.conv2d_transpose(final_logits_plus_poo5_logits, # (1, 11, 15, 2)\n",
    "                                             upsample_filter_factor_2_tensor, # (64, 64, 2, 2) # convolutonal filter shape\n",
    "                                             output_shape=upsampled_logits_shape, # [1 352 480 2] # Output shape of the conv op\n",
    "                                             strides=[1, 2, 2, 1]) # [1 x 32 x 32 x 1]\n",
    "\n",
    "    # We add a 1 × 1 convolution layer on top of pool4 to produce additional class predictions\n",
    "    pool4_feature_map = vgg_variables['vgg_16/pool4']\n",
    "\n",
    "    # The new parameters acting on pool4 are zero-initialized so that the net starts with unmodified predictions (paper)\n",
    "    pool4_logits = slim.conv2d(pool4_feature_map,\n",
    "                               number_of_classes,\n",
    "                               [1, 1],\n",
    "                               activation_fn=None,\n",
    "                               normalizer_fn=None,\n",
    "                               scope=\"seg_vars/pool4\",\n",
    "                               weights_initializer=tf.zeros_initializer) # Out: # (1, 22, 30, 2)\n",
    "\n",
    "\n",
    "    # sum the last layers transpose features with the vgg pool 4 features\n",
    "    conv7_plus_pool4_logits = pool4_logits + upsampled_logits\n",
    "    conv7_plus_pool4_logits_shape  = tf.shape(conv7_plus_pool4_logits)\n",
    "\n",
    "\n",
    "    conv7_pool4_upsampled_by_factor_16_logits_shape = tf.stack([\n",
    "                                                              conv7_plus_pool4_logits_shape[0],\n",
    "                                                              conv7_plus_pool4_logits_shape[1] * 16,\n",
    "                                                              conv7_plus_pool4_logits_shape[2] * 16,\n",
    "                                                              conv7_plus_pool4_logits_shape[3]\n",
    "                                                             ])\n",
    "\n",
    "    # Perform the upsampling\n",
    "    upsampled_by_factor_16_logits = tf.nn.conv2d_transpose(conv7_plus_pool4_logits,\n",
    "                                                            upsample_filter_factor_16_tensor,\n",
    "                                                            output_shape=conv7_pool4_upsampled_by_factor_16_logits_shape,\n",
    "                                                            strides=[1, 16, 16, 1])\n",
    "\n",
    "\n",
    "    # Flatten the predictions, so that we can compute cross-entropy for\n",
    "    # each pixel and get the sum of cross-entropies.\n",
    "    # From: (1, 352, 480, 2) to (352*480, 2).\n",
    "    # Note, here the flat logits shape matches the flat_labels shape. That is necessary for cross-entropy\n",
    "    flat_logits = tf.reshape(tensor=upsampled_by_factor_16_logits, shape=(-1, number_of_classes))\n",
    "    return flat_logits, upsampled_by_factor_16_logits"
   ]
  },
  {
   "cell_type": "code",
   "execution_count": 7,
   "metadata": {
    "collapsed": true
   },
   "outputs": [],
   "source": [
    "def model_loss(upsampled_by_factor_16_logits, labels):\n",
    "    labels = tf.squeeze(labels)\n",
    "    valid_labels_batch_tensor, valid_logits_batch_tensor = get_valid_logits_and_labels(annotation_batch_tensor=labels,\n",
    "                                                                                       logits_batch_tensor=upsampled_by_factor_16_logits,\n",
    "                                                                                       class_labels=class_labels)\n",
    "\n",
    "\n",
    "\n",
    "    cross_entropies = tf.nn.softmax_cross_entropy_with_logits(logits=valid_logits_batch_tensor,\n",
    "                                                              labels=valid_labels_batch_tensor)\n",
    "\n",
    "    cross_entropy_sum = tf.reduce_sum(cross_entropies)\n",
    "    \n",
    "    # Add summary op for the loss -- to be able to see it in tensorboard.\n",
    "    tf.summary.scalar('cross_entropy_loss', cross_entropy_sum)\n",
    "\n",
    "    # Tensor to get the final prediction for each pixel -- pay \n",
    "    # attention that we don't need softmax in this case because\n",
    "    # we only need the final decision. If we also need the respective\n",
    "    # probabilities we will have to apply softmax.\n",
    "    pred = tf.argmax(upsampled_by_factor_16_logits, dimension=3)\n",
    "    probabilities = tf.nn.softmax(upsampled_by_factor_16_logits)\n",
    "    \n",
    "    return cross_entropy_sum, pred, probabilities"
   ]
  },
  {
   "cell_type": "code",
   "execution_count": 8,
   "metadata": {
    "collapsed": true
   },
   "outputs": [],
   "source": [
    "def model_optimizer(cross_entropy_sum, learning_rate):\n",
    "    # Here we define an optimizer and put all the variables\n",
    "    # that will be created under a namespace of 'adam_vars'.\n",
    "    # This is done so that we can easily access them later.\n",
    "    # Those variables are used by adam optimizer and are not\n",
    "    # related to variables of the vgg model.\n",
    "\n",
    "    # We also retrieve gradient Tensors for each of our variables\n",
    "    # This way we can later visualize them in tensorboard.\n",
    "    # optimizer.compute_gradients and optimizer.apply_gradients\n",
    "    # is equivalent to running:\n",
    "    # train_step = tf.train.AdamOptimizer(learning_rate=0.0001).minimize(cross_entropy_sum)\n",
    "    with tf.variable_scope(\"adam_vars\"):\n",
    "        optimizer = tf.train.AdamOptimizer(learning_rate=learning_rate)\n",
    "        gradients = optimizer.compute_gradients(loss=cross_entropy_sum)\n",
    "\n",
    "        for grad_var_pair in gradients:\n",
    "\n",
    "            current_variable = grad_var_pair[1]\n",
    "            current_gradient = grad_var_pair[0]\n",
    "\n",
    "            # Relace some characters from the original variable name\n",
    "            # tensorboard doesn't accept ':' symbol\n",
    "            gradient_name_to_save = current_variable.name.replace(\":\", \"_\")\n",
    "\n",
    "            # Let's get histogram of gradients for each layer and\n",
    "            # visualize them later in tensorboard\n",
    "            tf.summary.histogram(gradient_name_to_save, current_gradient) \n",
    "\n",
    "        train_step = optimizer.apply_gradients(grads_and_vars=gradients)\n",
    "    return train_step"
   ]
  },
  {
   "cell_type": "code",
   "execution_count": 9,
   "metadata": {
    "collapsed": true
   },
   "outputs": [],
   "source": [
    "from scipy.misc import imread, imresize\n",
    "import numpy as np"
   ]
  },
  {
   "cell_type": "code",
   "execution_count": 10,
   "metadata": {
    "collapsed": true
   },
   "outputs": [],
   "source": [
    "filenames = \"/home/thalles/VOC2012/ImageSets/Segmentation/trainval.txt\"\n",
    "training_images_dir = \"/home/thalles/VOC2012/JPEGImages/\"\n",
    "training_labels_dir = \"/home/thalles/VOC2012/SegmentationClass_1D/\""
   ]
  },
  {
   "cell_type": "code",
   "execution_count": 11,
   "metadata": {},
   "outputs": [
    {
     "name": "stdout",
     "output_type": "stream",
     "text": [
      "['2007_000032\\n', '2007_000033\\n', '2007_000039\\n', '2007_000042\\n', '2007_000061\\n', '2007_000063\\n', '2007_000068\\n', '2007_000121\\n', '2007_000123\\n', '2007_000129\\n']\n",
      "['2007_006678\\n', '2010_004288\\n', '2008_005839\\n', '2010_001933\\n', '2011_001764\\n', '2008_006389\\n', '2011_001613\\n', '2008_001531\\n', '2010_003781\\n', '2009_002715\\n']\n"
     ]
    }
   ],
   "source": [
    "file = open(filenames, 'r')\n",
    "image_filenames_list = [line for line in file]\n",
    "print(image_filenames_list[0:10])\n",
    "\n",
    "np.random.shuffle(image_filenames_list)\n",
    "print(image_filenames_list[0:10])\n",
    "#image_filenames_list = [\"2007_000170\"]"
   ]
  },
  {
   "cell_type": "code",
   "execution_count": 12,
   "metadata": {
    "collapsed": true
   },
   "outputs": [],
   "source": [
    "def train_test_val_split(images_filenames, test_set_size=0.10, val_split=False, val_set_size=0.10):\n",
    "    \n",
    "    n_samples = len(images_filenames)\n",
    "\n",
    "    TEST_DATASET_SIZE = int(test_set_size * n_samples)\n",
    "\n",
    "    training_filenames = images_filenames[TEST_DATASET_SIZE:]\n",
    "    testing_filenames = images_filenames[:TEST_DATASET_SIZE]\n",
    "    \n",
    "    validation_filenames = None\n",
    "    if val_split:\n",
    "        VALIDATION_DATASET_SIZE = int(val_set_size * len(training_filenames))\n",
    "\n",
    "        validation_filenames = training_filenames[:VALIDATION_DATASET_SIZE]\n",
    "        training_filenames = training_filenames[VALIDATION_DATASET_SIZE:]\n",
    "        \n",
    "    return training_filenames, testing_filenames, validation_filenames"
   ]
  },
  {
   "cell_type": "code",
   "execution_count": 13,
   "metadata": {
    "collapsed": true
   },
   "outputs": [],
   "source": [
    "training_filenames, testing_filenames, validation_filenames = train_test_val_split(image_filenames_list)"
   ]
  },
  {
   "cell_type": "code",
   "execution_count": 14,
   "metadata": {},
   "outputs": [],
   "source": [
    "training_file = open('training_filenames.txt', 'w')\n",
    "for line in training_filenames:\n",
    "    training_file.write(\"%s\" % line)\n",
    "training_file.close()\n",
    "\n",
    "#validation_file = open('validation_filenames.txt', 'w')\n",
    "#for line in validation_filenames:\n",
    "#    validation_file.write(\"%s\" % line)\n",
    "#validation_file.close()\n",
    "\n",
    "testing_file = open('testing_filenames.txt', 'w')\n",
    "for line in testing_filenames:\n",
    "    testing_file.write(\"%s\" % line)\n",
    "testing_file.close()"
   ]
  },
  {
   "cell_type": "code",
   "execution_count": 15,
   "metadata": {},
   "outputs": [
    {
     "name": "stdout",
     "output_type": "stream",
     "text": [
      "Training set size: 2622\n",
      "Testing set size: 291\n"
     ]
    }
   ],
   "source": [
    "print(\"Training set size:\", len(training_filenames))\n",
    "print(\"Testing set size:\", len(testing_filenames))\n",
    "#print(\"Validation set size:\", len(validation_filenames))"
   ]
  },
  {
   "cell_type": "code",
   "execution_count": 16,
   "metadata": {
    "collapsed": true
   },
   "outputs": [],
   "source": [
    "training_filenames = \"/home/thalles/image-segmentation/training_filenames.txt\"\n",
    "validation_file = \"/home/thalles/image-segmentation/validation_filenames.txt\"\n",
    "testing_file = \"/home/thalles/image-segmentation/testing_filenames.txt\"\n",
    "#training_filenames = [\"2007_000170\"]"
   ]
  },
  {
   "cell_type": "code",
   "execution_count": 17,
   "metadata": {
    "collapsed": true
   },
   "outputs": [],
   "source": [
    "num_classes = 21\n",
    "input_shape = (384,384,3)\n",
    "annotation_shape = (384,384)\n",
    "total_epochs = 30\n",
    "batch_size = 20\n",
    "image_size=[384, 384]\n",
    "total_train_steps = 10000"
   ]
  },
  {
   "cell_type": "code",
   "execution_count": 18,
   "metadata": {},
   "outputs": [],
   "source": [
    "filename_queue = tf.train.string_input_producer([training_filenames])\n",
    "reader = tf.TextLineReader()\n",
    "key, img_filename = reader.read(filename_queue)\n",
    "\n",
    "# read the input and annotation images\n",
    "image_tensor = tf.read_file(training_images_dir + img_filename + \".jpg\")\n",
    "annotation_tensor = tf.read_file(training_labels_dir + img_filename + \".png\")\n",
    "\n",
    "image_tensor = tf.image.decode_jpeg(image_tensor, channels=3)\n",
    "annotation_tensor = tf.image.decode_png(annotation_tensor, channels=1)\n",
    "\n",
    "resized_image, resized_annotation = scale_randomly_image_with_annotation_with_fixed_size_output(image_tensor, annotation_tensor, image_size)\n",
    "\n",
    "num_examples_per_epoch = len(training_filenames)\n",
    "min_fraction_of_examples_in_queue = 0.4\n",
    "min_queue_examples = int(num_examples_per_epoch * min_fraction_of_examples_in_queue)\n",
    "\n",
    "# Create a queue that shuffles the examples, and then\n",
    "# read 'batch_size' images + labels from the example queue.\n",
    "num_preprocess_threads = 2\n",
    "batch_images, batch_labels = tf.train.shuffle_batch(\n",
    "    [resized_image, resized_annotation],\n",
    "    batch_size=batch_size,\n",
    "    num_threads=num_preprocess_threads,\n",
    "    capacity=min_queue_examples + 3 * batch_size,\n",
    "    min_after_dequeue=min_queue_examples)"
   ]
  },
  {
   "cell_type": "code",
   "execution_count": 19,
   "metadata": {},
   "outputs": [],
   "source": [
    "is_training_placeholder = model_input()\n",
    "\n",
    "flat_logits, upsampled_by_factor_16_logits = model(batch_images, number_of_classes=num_classes, is_training=True)\n",
    "\n",
    "cross_entropy_sum, pred, probabilities = model_loss(upsampled_by_factor_16_logits, batch_labels)\n",
    "\n",
    "train_step = model_optimizer(cross_entropy_sum, learning_rate=0.00001)"
   ]
  },
  {
   "cell_type": "code",
   "execution_count": 20,
   "metadata": {},
   "outputs": [],
   "source": [
    "#image_placeholder, annotation_placeholder, is_training_placeholder =  model_input(input_shape, annotation_shape):\n",
    "#flat_logits, upsampled_by_factor_16_logits = model(batch_images, number_of_classes=num_classes, is_training=False)\n",
    "#cross_entropy_sum_val, pred_val, probabilities_val = model_loss(upsampled_by_factor_16_logits_val, labels_batch_val)"
   ]
  },
  {
   "cell_type": "code",
   "execution_count": 21,
   "metadata": {
    "collapsed": true
   },
   "outputs": [],
   "source": [
    "# get all segmentation model vars, these are the variables we create to perform \n",
    "# the segmentation upsampling layers\n",
    "model_variables = [ var.op.name for var in slim.get_variables(scope=\"seg_vars\") ]\n",
    "\n",
    "# Now we define a function that will load the weights from VGG checkpoint\n",
    "# into our variables when we call it. We exclude the weights from the last layer\n",
    "# which is responsible for class predictions. We do this because \n",
    "# we will have different number of classes to predict and we can't\n",
    "# use the old ones as an initialization.\n",
    "exclude_vars = model_variables + ['vgg_16/fc8', 'adam_vars']\n",
    "vgg_except_fc8_weights = slim.get_variables_to_restore(exclude=exclude_vars)\n",
    "\n",
    "# Here we get variables that belong to the last layer of network.\n",
    "# As we saw, the number of classes that VGG was originally trained on\n",
    "# is different from ours -- in our case it is only 2 classes.\n",
    "vgg_fc8_weights = slim.get_variables_to_restore(include=['vgg_16/fc8'])\n",
    "\n",
    "adam_optimizer_variables = slim.get_variables_to_restore(include=['adam_vars'])\n",
    "\n",
    "# get the segmentation upsampling variables to be initialized \n",
    "model_variables = slim.get_variables(scope=\"seg_vars\")\n",
    "\n",
    "# Put all summary ops into one op. Produces string when you run it.\n",
    "merged_summary_op = tf.summary.merge_all()\n",
    "\n",
    "# Create the summary writer -- to write all the logs\n",
    "# into a specified file. This file can be later read\n",
    "# by tensorboard.\n",
    "summary_string_writer = tf.summary.FileWriter(log_folder)\n",
    "\n",
    "# Create the log folder if doesn't exist yet\n",
    "if not os.path.exists(log_folder):\n",
    "    os.makedirs(log_folder)\n",
    "\n",
    "# Create an OP that performs the initialization of\n",
    "# the VGG net variables.\n",
    "read_vgg_weights_except_fc8_func = slim.assign_from_checkpoint_fn(\n",
    "                                   vgg_checkpoint_path,\n",
    "                                   vgg_except_fc8_weights)"
   ]
  },
  {
   "cell_type": "code",
   "execution_count": null,
   "metadata": {},
   "outputs": [
    {
     "name": "stdout",
     "output_type": "stream",
     "text": [
      "INFO:tensorflow:Restoring parameters from /home/thalles/image-segmentation/vgg/vgg_16.ckpt\n",
      "Train step: 0 \tBatch: 0 \tTraing Loss: 9.40751e+06 \tValidation Loss: 5.50399e+06\n"
     ]
    },
    {
     "data": {
      "image/png": "[encoded data removed]",
      "text/plain": [
       "<matplotlib.figure.Figure at 0x7faa2ccebb38>"
      ]
     },
     "metadata": {},
     "output_type": "display_data"
    },
    {
     "name": "stdout",
     "output_type": "stream",
     "text": [
      "Train step: 100 \tBatch: 100 \tTraing Loss: 1.1215e+06 \tValidation Loss: 1.18189e+06\n"
     ]
    },
    {
     "data": {
      "image/png": "[encoded data removed]",
      "text/plain": [
       "<matplotlib.figure.Figure at 0x7faa247ee358>"
      ]
     },
     "metadata": {},
     "output_type": "display_data"
    }
   ],
   "source": [
    "# Initializer for new fc8 weights -- for two classes.\n",
    "vgg_fc8_weights_initializer = tf.variables_initializer(vgg_fc8_weights)\n",
    "\n",
    "# Initializer for adam variables\n",
    "optimization_variables_initializer = tf.variables_initializer(adam_optimizer_variables)\n",
    "\n",
    "model_vars = tf.variables_initializer(model_variables)\n",
    "\n",
    "# Create a saver.\n",
    "saver = tf.train.Saver()\n",
    "\n",
    "with tf.Session() as sess:\n",
    "    \n",
    "    # Run the initializers.\n",
    "    read_vgg_weights_except_fc8_func(sess)\n",
    "    sess.run(vgg_fc8_weights_initializer)\n",
    "    sess.run(optimization_variables_initializer)\n",
    "    sess.run(tf.local_variables_initializer())\n",
    "    sess.run(model_vars)\n",
    "    step = 0\n",
    "\n",
    "    # Start input enqueue threads.\n",
    "    coord = tf.train.Coordinator()\n",
    "    threads = tf.train.start_queue_runners(sess=sess, coord=coord)\n",
    "    batch_id = 0\n",
    "    try:\n",
    "        for step in range(total_train_steps):\n",
    "            \n",
    "            _, train_loss, summary_string = sess.run([train_step, cross_entropy_sum, merged_summary_op],\n",
    "                                            feed_dict={is_training_placeholder: True})\n",
    "            \n",
    "            if step % 100 == 0:\n",
    "                summary_string_writer.add_summary(summary_string, step)\n",
    "\n",
    "                pred_np, probabilities_np, val_loss = sess.run([pred, probabilities, cross_entropy_sum],\n",
    "                                                      feed_dict={is_training_placeholder: False})\n",
    "\n",
    "                print(\"Train step:\", step, \"\\tBatch:\", batch_id, \"\\tTraing Loss:\", train_loss, \"\\tValidation Loss:\", val_loss)\n",
    "\n",
    "                cmap = plt.get_cmap('bwr')\n",
    "\n",
    "                f, (ax1, ax2) = plt.subplots(1, 2, sharey=True)\n",
    "                ax1.imshow(np.uint8(pred_np[0].squeeze() != 1), vmax=21.5, vmin=-0.4, cmap=cmap)\n",
    "                ax1.set_title('Argmax. Epoch # ' + str(step))\n",
    "                probability_graph = ax2.imshow(probabilities_np[0].squeeze()[:, :, 0])\n",
    "                ax2.set_title('Probability of the Class. Iteration # ' + str(step))\n",
    "\n",
    "                plt.colorbar(probability_graph)\n",
    "                plt.show()\n",
    "                step += 1\n",
    "                \n",
    "            batch_id += 1\n",
    "        \n",
    "    except tf.errors.OutOfRangeError:\n",
    "        print('Done training -- epoch limit reached')\n",
    "    finally:\n",
    "        # When done, ask the threads to stop.\n",
    "        coord.request_stop()\n",
    "\n",
    "    # Append the step number to the checkpoint name:\n",
    "    saver.save(sess, 'checkpoints/FCNCheckpoints', global_step=step)\n",
    "        \n",
    "    # Wait for threads to finish.\n",
    "    coord.join(threads)\n",
    "    sess.close()\n",
    "\n",
    "    summary_string_writer.close()"
   ]
  },
  {
   "cell_type": "code",
   "execution_count": null,
   "metadata": {
    "collapsed": true
   },
   "outputs": [],
   "source": [
    "# Later, launch the model, use the saver to restore variables from disk, and\n",
    "# do some work with the model.\n",
    "with tf.Session() as sess:\n",
    "    # Restore variables from disk.\n",
    "    saver.restore(sess, \"checkpoints/FCNCheckpoints.ckpt\")\n",
    "    print(\"Model restored.\")\n",
    "    \n",
    "    # read image and feeds it to the network\n",
    "    \n",
    "    \n",
    "\n",
    "print(\"Current Loss: \" +  str(loss))\n",
    "\n",
    "feed_dict_to_use[is_training_placeholder] = False\n",
    "\n",
    "final_predictions, final_probabilities, final_loss = sess.run([pred,\n",
    "                                                               probabilities,\n",
    "                                                               cross_entropy_sum],\n",
    "                                                     feed_dict=feed_dict_to_use)\n",
    "\n",
    "f, (ax1, ax2) = plt.subplots(1, 2, sharey=True)\n",
    "\n",
    "ax1.imshow(np.uint8(final_predictions[0].squeeze() != 1),\n",
    "           vmax=1.5,\n",
    "           vmin=-0.4,\n",
    "           cmap=cmap)\n",
    "\n",
    "ax1.set_title('Final Argmax')\n",
    "\n",
    "probability_graph = ax2.imshow(final_probabilities[0].squeeze()[:, :, 0])\n",
    "ax2.set_title('Final Probability of the Class')\n",
    "plt.colorbar(probability_graph)\n",
    "\n",
    "plt.show()\n",
    "\n",
    "print(\"Final Loss: \" +  str(final_loss))"
   ]
  },
  {
   "cell_type": "code",
   "execution_count": null,
   "metadata": {
    "collapsed": true
   },
   "outputs": [],
   "source": []
  }
 ],
 "metadata": {
  "anaconda-cloud": {},
  "kernelspec": {
   "display_name": "Python 3",
   "language": "python",
   "name": "python3"
  },
  "language_info": {
   "codemirror_mode": {
    "name": "ipython",
    "version": 3
   },
   "file_extension": ".py",
   "mimetype": "text/x-python",
   "name": "python",
   "nbconvert_exporter": "python",
   "pygments_lexer": "ipython3",
   "version": "3.6.1"
  }
 },
 "nbformat": 4,
 "nbformat_minor": 1
}
